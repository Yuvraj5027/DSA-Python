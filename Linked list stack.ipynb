{
 "cells": [
  {
   "cell_type": "code",
   "execution_count": 5,
   "id": "4c4e0386-14ac-45de-852d-8831baf62ce7",
   "metadata": {},
   "outputs": [
    {
     "name": "stdout",
     "output_type": "stream",
     "text": [
      "program to implement the stack using Linked list\n",
      "1.push\n",
      "2.pop\n",
      "3.peek\n",
      "4.Display\n",
      "5.Exit\n"
     ]
    },
    {
     "name": "stdin",
     "output_type": "stream",
     "text": [
      "Enter your choice 1\n",
      "enter the data 67\n"
     ]
    },
    {
     "ename": "TypeError",
     "evalue": "Stack.push() missing 1 required positional argument: 'NewData'",
     "output_type": "error",
     "traceback": [
      "\u001b[1;31m---------------------------------------------------------------------------\u001b[0m",
      "\u001b[1;31mTypeError\u001b[0m                                 Traceback (most recent call last)",
      "Cell \u001b[1;32mIn[5], line 36\u001b[0m\n\u001b[0;32m     34\u001b[0m \u001b[38;5;28;01mif\u001b[39;00m choice \u001b[38;5;241m==\u001b[39m\u001b[38;5;241m1\u001b[39m:\n\u001b[0;32m     35\u001b[0m     num\u001b[38;5;241m=\u001b[39m\u001b[38;5;28mint\u001b[39m(\u001b[38;5;28minput\u001b[39m(\u001b[38;5;124m\"\u001b[39m\u001b[38;5;124menter the data\u001b[39m\u001b[38;5;124m\"\u001b[39m))\n\u001b[1;32m---> 36\u001b[0m     s\u001b[38;5;241m.\u001b[39mpush()\n\u001b[0;32m     37\u001b[0m \u001b[38;5;28;01melif\u001b[39;00m choice \u001b[38;5;241m==\u001b[39m\u001b[38;5;241m2\u001b[39m:\n\u001b[0;32m     38\u001b[0m     \u001b[38;5;28;01mif\u001b[39;00m s\u001b[38;5;241m.\u001b[39misempty():\n",
      "\u001b[1;31mTypeError\u001b[0m: Stack.push() missing 1 required positional argument: 'NewData'"
     ]
    }
   ],
   "source": [
    "#stack using Linked List\n",
    "class StackNode:\n",
    "    def _init_(self,NewData,link):\n",
    "        self.data=NewData\n",
    "        self.next=link\n",
    "class Stack:\n",
    "    def _init_(self):\n",
    "        self.top=None\n",
    "    def isempty(self):\n",
    "        return self.top is None \n",
    "    def push(self,NewData):\n",
    "        self.top=StackNode(NewData,self.top)\n",
    "    def pop(self):\n",
    "        node=self.top\n",
    "        self.top=self.top.next\n",
    "        return node.data\n",
    "    def peek(self):\n",
    "        return self.top.data\n",
    "    def display(self):\n",
    "        curNode = self.top\n",
    "        while curNode is not None:\n",
    "            print(curNode.data)\n",
    "            curNode=curNode.next\n",
    "\n",
    "s=Stack()\n",
    "while(True):\n",
    "    print(\"program to implement the stack using Linked list\")\n",
    "    print(\"1.push\")\n",
    "    print(\"2.pop\")\n",
    "    print(\"3.peek\")\n",
    "    print(\"4.Display\")\n",
    "    print(\"5.Exit\")\n",
    "    choice=int(input(\"Enter your choice\"))\n",
    "    if choice ==1:\n",
    "        num=int(input(\"enter the data\"))\n",
    "        s.push()\n",
    "    elif choice ==2:\n",
    "        if s.isempty():\n",
    "            print(\"stack underflow!!!\")\n",
    "        else:\n",
    "            num=s.pop()\n",
    "            print(\"The popped element:\",num)\n",
    "    elif choice ==3:\n",
    "        if s.isempty():\n",
    "            print(\"stack underflow\")\n",
    "        else:\n",
    "            mum=s.peek()\n",
    "            print(\"The top element in stack:\",num)\n",
    "    elif choice ==4:\n",
    "        if s.isempty():\n",
    "            print(\"Stack is empty!!!\")\n",
    "        else:\n",
    "            s.display()\n",
    "    elif choice ==5:\n",
    "        print(\"Quitting...!!!\")\n",
    "        break\n",
    "    else:\n",
    "        print(\"Invalid choice!!! Enter the correct choice(1-5\")\n",
    "        continue"
   ]
  },
  {
   "cell_type": "code",
   "execution_count": null,
   "id": "594d8a59-0d80-44c1-a434-ea638894e8a3",
   "metadata": {},
   "outputs": [],
   "source": []
  }
 ],
 "metadata": {
  "kernelspec": {
   "display_name": "Python 3 (ipykernel)",
   "language": "python",
   "name": "python3"
  },
  "language_info": {
   "codemirror_mode": {
    "name": "ipython",
    "version": 3
   },
   "file_extension": ".py",
   "mimetype": "text/x-python",
   "name": "python",
   "nbconvert_exporter": "python",
   "pygments_lexer": "ipython3",
   "version": "3.12.4"
  }
 },
 "nbformat": 4,
 "nbformat_minor": 5
}
