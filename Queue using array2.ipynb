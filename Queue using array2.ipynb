{
 "cells": [
  {
   "cell_type": "code",
   "execution_count": 1,
   "id": "98354504-2102-439d-a6ba-2c7cbc85ad6e",
   "metadata": {},
   "outputs": [
    {
     "name": "stdin",
     "output_type": "stream",
     "text": [
      "Enter the size of array: 6\n"
     ]
    },
    {
     "name": "stdout",
     "output_type": "stream",
     "text": [
      "Program to implement the queue using array\n",
      "1.Enqueue\n",
      "2.Dequeue\n",
      "3.peek\n",
      "4.Display\n",
      "5.Exit\n"
     ]
    },
    {
     "name": "stdin",
     "output_type": "stream",
     "text": [
      "Enter your choice 1\n",
      "Enter the data: 23\n"
     ]
    },
    {
     "name": "stdout",
     "output_type": "stream",
     "text": [
      "23 added to the queue\n",
      "Program to implement the queue using array\n",
      "1.Enqueue\n",
      "2.Dequeue\n",
      "3.peek\n",
      "4.Display\n",
      "5.Exit\n"
     ]
    },
    {
     "name": "stdin",
     "output_type": "stream",
     "text": [
      "Enter your choice 1\n",
      "Enter the data: 33\n"
     ]
    },
    {
     "name": "stdout",
     "output_type": "stream",
     "text": [
      "33 added to the queue\n",
      "Program to implement the queue using array\n",
      "1.Enqueue\n",
      "2.Dequeue\n",
      "3.peek\n",
      "4.Display\n",
      "5.Exit\n"
     ]
    },
    {
     "name": "stdin",
     "output_type": "stream",
     "text": [
      "Enter your choice 1\n",
      "Enter the data: 33\n"
     ]
    },
    {
     "name": "stdout",
     "output_type": "stream",
     "text": [
      "33 added to the queue\n",
      "Program to implement the queue using array\n",
      "1.Enqueue\n",
      "2.Dequeue\n",
      "3.peek\n",
      "4.Display\n",
      "5.Exit\n"
     ]
    },
    {
     "name": "stdin",
     "output_type": "stream",
     "text": [
      "Enter your choice 1\n",
      "Enter the data: 55\n"
     ]
    },
    {
     "name": "stdout",
     "output_type": "stream",
     "text": [
      "55 added to the queue\n",
      "Program to implement the queue using array\n",
      "1.Enqueue\n",
      "2.Dequeue\n",
      "3.peek\n",
      "4.Display\n",
      "5.Exit\n"
     ]
    },
    {
     "name": "stdin",
     "output_type": "stream",
     "text": [
      "Enter your choice 1\n",
      "Enter the data: 43\n"
     ]
    },
    {
     "name": "stdout",
     "output_type": "stream",
     "text": [
      "43 added to the queue\n",
      "Program to implement the queue using array\n",
      "1.Enqueue\n",
      "2.Dequeue\n",
      "3.peek\n",
      "4.Display\n",
      "5.Exit\n"
     ]
    },
    {
     "name": "stdin",
     "output_type": "stream",
     "text": [
      "Enter your choice 1\n",
      "Enter the data: 43\n"
     ]
    },
    {
     "name": "stdout",
     "output_type": "stream",
     "text": [
      "43 added to the queue\n",
      "Program to implement the queue using array\n",
      "1.Enqueue\n",
      "2.Dequeue\n",
      "3.peek\n",
      "4.Display\n",
      "5.Exit\n"
     ]
    },
    {
     "name": "stdin",
     "output_type": "stream",
     "text": [
      "Enter your choice 1\n"
     ]
    },
    {
     "name": "stdout",
     "output_type": "stream",
     "text": [
      "Queue is full!!!\n",
      "Program to implement the queue using array\n",
      "1.Enqueue\n",
      "2.Dequeue\n",
      "3.peek\n",
      "4.Display\n",
      "5.Exit\n"
     ]
    },
    {
     "name": "stdin",
     "output_type": "stream",
     "text": [
      "Enter your choice 434\n"
     ]
    },
    {
     "name": "stdout",
     "output_type": "stream",
     "text": [
      "Invalid choice! Enter the choice(1-5)\n",
      "Program to implement the queue using array\n",
      "1.Enqueue\n",
      "2.Dequeue\n",
      "3.peek\n",
      "4.Display\n",
      "5.Exit\n"
     ]
    },
    {
     "name": "stdin",
     "output_type": "stream",
     "text": [
      "Enter your choice 1\n"
     ]
    },
    {
     "name": "stdout",
     "output_type": "stream",
     "text": [
      "Queue is full!!!\n",
      "Program to implement the queue using array\n",
      "1.Enqueue\n",
      "2.Dequeue\n",
      "3.peek\n",
      "4.Display\n",
      "5.Exit\n"
     ]
    },
    {
     "name": "stdin",
     "output_type": "stream",
     "text": [
      "Enter your choice 32\n"
     ]
    },
    {
     "name": "stdout",
     "output_type": "stream",
     "text": [
      "Invalid choice! Enter the choice(1-5)\n",
      "Program to implement the queue using array\n",
      "1.Enqueue\n",
      "2.Dequeue\n",
      "3.peek\n",
      "4.Display\n",
      "5.Exit\n"
     ]
    },
    {
     "name": "stdin",
     "output_type": "stream",
     "text": [
      "Enter your choice 1\n"
     ]
    },
    {
     "name": "stdout",
     "output_type": "stream",
     "text": [
      "Queue is full!!!\n",
      "Program to implement the queue using array\n",
      "1.Enqueue\n",
      "2.Dequeue\n",
      "3.peek\n",
      "4.Display\n",
      "5.Exit\n"
     ]
    },
    {
     "name": "stdin",
     "output_type": "stream",
     "text": [
      "Enter your choice 23\n"
     ]
    },
    {
     "name": "stdout",
     "output_type": "stream",
     "text": [
      "Invalid choice! Enter the choice(1-5)\n",
      "Program to implement the queue using array\n",
      "1.Enqueue\n",
      "2.Dequeue\n",
      "3.peek\n",
      "4.Display\n",
      "5.Exit\n"
     ]
    },
    {
     "name": "stdin",
     "output_type": "stream",
     "text": [
      "Enter your choice 1\n"
     ]
    },
    {
     "name": "stdout",
     "output_type": "stream",
     "text": [
      "Queue is full!!!\n",
      "Program to implement the queue using array\n",
      "1.Enqueue\n",
      "2.Dequeue\n",
      "3.peek\n",
      "4.Display\n",
      "5.Exit\n"
     ]
    },
    {
     "name": "stdin",
     "output_type": "stream",
     "text": [
      "Enter your choice 2\n"
     ]
    },
    {
     "name": "stdout",
     "output_type": "stream",
     "text": [
      "23 is removed from queue!\n",
      "Dequeued element: 23\n",
      "Program to implement the queue using array\n",
      "1.Enqueue\n",
      "2.Dequeue\n",
      "3.peek\n",
      "4.Display\n",
      "5.Exit\n"
     ]
    },
    {
     "name": "stdin",
     "output_type": "stream",
     "text": [
      "Enter your choice 3\n"
     ]
    },
    {
     "name": "stdout",
     "output_type": "stream",
     "text": [
      "Item at the front of the queue: 33\n",
      "Program to implement the queue using array\n",
      "1.Enqueue\n",
      "2.Dequeue\n",
      "3.peek\n",
      "4.Display\n",
      "5.Exit\n"
     ]
    },
    {
     "name": "stdin",
     "output_type": "stream",
     "text": [
      "Enter your choice 4\n"
     ]
    },
    {
     "name": "stdout",
     "output_type": "stream",
     "text": [
      "Queue elements....\n",
      "33 33 55 43 43 \n",
      "Program to implement the queue using array\n",
      "1.Enqueue\n",
      "2.Dequeue\n",
      "3.peek\n",
      "4.Display\n",
      "5.Exit\n"
     ]
    },
    {
     "name": "stdin",
     "output_type": "stream",
     "text": [
      "Enter your choice 5\n"
     ]
    },
    {
     "name": "stdout",
     "output_type": "stream",
     "text": [
      "\n",
      " Quitting...!!\n"
     ]
    }
   ],
   "source": [
    "import numpy as np\n",
    "\n",
    "class Queue:\n",
    "    def __init__(self,size):\n",
    "        self.front=-1\n",
    "        self.rear=-1\n",
    "        self.size = size\n",
    "        self.arr=np.empty(size,dtype=int)\n",
    "    def isempty(self):\n",
    "        return self.front==-1\n",
    "    def arr_size(self):\n",
    "        return len(self.arr)\n",
    "    def isfull(self):\n",
    "        return self.rear==self.size-1 n  \n",
    "    def peek(self):\n",
    "        return self.arr[self.front]\n",
    "    def enqueue(self,item):\n",
    "        if self.isfull():\n",
    "            print(\"Queue is full!\")\n",
    "        else:\n",
    "            if self.front == -1:\n",
    "                self.front =0\n",
    "            self.rear+=1\n",
    "            self.arr[self.rear]=item\n",
    "            print(f\"{item} added to the queue\")\n",
    "    def dequeue(self):\n",
    "        if self.isempty():\n",
    "            print(\"Queue is empty\")\n",
    "        else:\n",
    "            dequeue_item = self.arr[self.front]\n",
    "            if self.front==self.rear:\n",
    "                self.front=self.rear=-1\n",
    "            else:\n",
    "                self.front+=1\n",
    "            print(f\"{dequeue_item} is removed from queue!\")\n",
    "            return dequeue_item\n",
    "    def display(self):\n",
    "        if self.isempty():\n",
    "            print(\"Queue is empty!\")\n",
    "        else:\n",
    "            print(\"Queue elements....\")\n",
    "            for i in range(self.front,self.rear+1):\n",
    "                print(self.arr[i], end=\" \")\n",
    "            print()\n",
    "\n",
    "size = int(input(\"Enter the size of array:\"))\n",
    "q=Queue(size)\n",
    "\n",
    "while(True):\n",
    "    print(\"Program to implement the queue using array\")\n",
    "    print(\"1.Enqueue\")\n",
    "    print(\"2.Dequeue\")\n",
    "    print(\"3.peek\")\n",
    "    print(\"4.Display\")\n",
    "    print(\"5.Exit\")\n",
    "    choice=int(input(\"Enter your choice\"))\n",
    "    if choice ==1:\n",
    "        if q.isfull():\n",
    "            print(\"Queue is full!!!\")\n",
    "        else:\n",
    "            num = int(input(\"Enter the data:\"))\n",
    "            q.enqueue(num)\n",
    "    elif choice ==2:\n",
    "        if q.isempty():\n",
    "            print(\"Queue underflow!\")\n",
    "        else: \n",
    "            num = q.dequeue()\n",
    "            print(\"Dequeued element:\", num)\n",
    "    elif choice==3:\n",
    "        if q.isempty():\n",
    "            print(\"Queue undeflow!\")\n",
    "        else:\n",
    "            num = q.peek()\n",
    "            print(\"Item at the front of the queue:\",num)\n",
    "    elif choice==4:\n",
    "        if q.isempty():\n",
    "            print(\"Queue underflow!\")\n",
    "        else: \n",
    "            q.display()\n",
    "    elif choice==5:\n",
    "        print(\"\\n Quitting...!!\")\n",
    "        break\n",
    "    else: \n",
    "        print(\"Invalid choice! Enter the choice(1-5)\")\n",
    "        continue   \n",
    "            \n",
    "        "
   ]
  },
  {
   "cell_type": "code",
   "execution_count": null,
   "id": "68035e1f-2d40-4be9-ba61-14e5103ceb06",
   "metadata": {},
   "outputs": [],
   "source": []
  }
 ],
 "metadata": {
  "kernelspec": {
   "display_name": "Python 3 (ipykernel)",
   "language": "python",
   "name": "python3"
  },
  "language_info": {
   "codemirror_mode": {
    "name": "ipython",
    "version": 3
   },
   "file_extension": ".py",
   "mimetype": "text/x-python",
   "name": "python",
   "nbconvert_exporter": "python",
   "pygments_lexer": "ipython3",
   "version": "3.12.4"
  }
 },
 "nbformat": 4,
 "nbformat_minor": 5
}
