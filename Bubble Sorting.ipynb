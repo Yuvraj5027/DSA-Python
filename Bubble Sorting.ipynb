{
 "cells": [
  {
   "cell_type": "code",
   "execution_count": 1,
   "id": "b4919424-6972-4ea0-9547-ed98d4c90c1c",
   "metadata": {},
   "outputs": [
    {
     "name": "stdin",
     "output_type": "stream",
     "text": [
      "Enter number of elements 9\n",
      "Enter Elements 12\n",
      "Enter Elements 3\n",
      "Enter Elements 56\n",
      "Enter Elements 45\n",
      "Enter Elements 67\n",
      "Enter Elements 2\n",
      "Enter Elements 54\n",
      "Enter Elements 3\n",
      "Enter Elements 445\n"
     ]
    },
    {
     "name": "stdout",
     "output_type": "stream",
     "text": [
      "The sorted elements are:\n",
      "2 3 3 12 45 54 56 67 445 "
     ]
    }
   ],
   "source": [
    "def bubble_sort(list):\n",
    "    size=len(list)\n",
    "    for i in range(size-1):\n",
    "        for j in range(size-1):\n",
    "            if list[j]>list[j+1]:\n",
    "                temp=list[j]\n",
    "                list[j]=list[j+1]\n",
    "                list[j+1]=temp\n",
    "n=int(input('Enter number of elements'))\n",
    "lst=[]\n",
    "for i in range(n):\n",
    "    num=int(input('Enter Elements'))\n",
    "    lst.append(num)\n",
    "\n",
    "bubble_sort(lst)\n",
    "print(f'The sorted elements are:')\n",
    "for i in range(n):\n",
    "    print(lst[i],end=' ')\n",
    "            "
   ]
  },
  {
   "cell_type": "code",
   "execution_count": null,
   "id": "f086b32e-767a-48c2-8cfa-b11c22fec372",
   "metadata": {},
   "outputs": [],
   "source": []
  }
 ],
 "metadata": {
  "kernelspec": {
   "display_name": "Python 3 (ipykernel)",
   "language": "python",
   "name": "python3"
  },
  "language_info": {
   "codemirror_mode": {
    "name": "ipython",
    "version": 3
   },
   "file_extension": ".py",
   "mimetype": "text/x-python",
   "name": "python",
   "nbconvert_exporter": "python",
   "pygments_lexer": "ipython3",
   "version": "3.12.4"
  }
 },
 "nbformat": 4,
 "nbformat_minor": 5
}
