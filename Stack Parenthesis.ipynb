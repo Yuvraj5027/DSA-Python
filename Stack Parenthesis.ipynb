{
 "cells": [
  {
   "cell_type": "code",
   "execution_count": 9,
   "id": "a7484267-95a0-41b7-8929-55716157822f",
   "metadata": {},
   "outputs": [
    {
     "name": "stdin",
     "output_type": "stream",
     "text": [
      "Enter any expression [a-b]\n"
     ]
    },
    {
     "name": "stdout",
     "output_type": "stream",
     "text": [
      "Expression is well parenthesized\n"
     ]
    }
   ],
   "source": [
    "#stack using Linked List\n",
    "class StackNode:\n",
    "    def __init__(self,NewData,link):\n",
    "        self.data=NewData\n",
    "        self.next=link\n",
    "class Stack:\n",
    "    def __init__(self):\n",
    "        self.top=None\n",
    "    def isempty(self):\n",
    "        return self.top is None \n",
    "    def push(self,NewData):\n",
    "        self.top=StackNode(NewData,self.top)\n",
    "    def pop(self):\n",
    "        node=self.top\n",
    "        self.top=self.top.next\n",
    "        return node.data\n",
    "    def peek(self):\n",
    "        return self.top.data\n",
    "    def display(self):\n",
    "        curNode = self.top\n",
    "        while curNode is not None:\n",
    "            print(curNode.data)\n",
    "            curNode=curNode.next\n",
    "def chk_parenthesis(expr):\n",
    "    st=Stack()\n",
    "    for ch in expr:\n",
    "        if (ch=='(' or ch=='{' or ch== '['):\n",
    "            st.push(ch)\n",
    "        elif(ch==')' or ch=='}' or ch==']'):\n",
    "            if st.isempty():\n",
    "                print('No matching opening parenthesis')\n",
    "                return\n",
    "            else:\n",
    "                if(getmatch(ch)!=st.pop()):\n",
    "                    print('Improper nesting of parenthesis')\n",
    "                    return\n",
    "    if not st.isempty():\n",
    "        print('No matching closing parenthesis')\n",
    "    else:\n",
    "        print('Expression is well parenthesized')\n",
    "def getmatch(ch):\n",
    "    if ch==')':\n",
    "        return '('\n",
    "    elif ch=='}':\n",
    "        return'{'\n",
    "    elif ch==']':\n",
    "        return '['\n",
    "expr=input('Enter any expression')\n",
    "chk_parenthesis(expr)"
   ]
  },
  {
   "cell_type": "code",
   "execution_count": null,
   "id": "18ac5894-c928-44d3-918c-5e93c39f4521",
   "metadata": {},
   "outputs": [],
   "source": []
  }
 ],
 "metadata": {
  "kernelspec": {
   "display_name": "Python 3 (ipykernel)",
   "language": "python",
   "name": "python3"
  },
  "language_info": {
   "codemirror_mode": {
    "name": "ipython",
    "version": 3
   },
   "file_extension": ".py",
   "mimetype": "text/x-python",
   "name": "python",
   "nbconvert_exporter": "python",
   "pygments_lexer": "ipython3",
   "version": "3.12.4"
  }
 },
 "nbformat": 4,
 "nbformat_minor": 5
}
