{
 "cells": [
  {
   "cell_type": "code",
   "execution_count": 11,
   "id": "d9e3e771-1bae-4177-8c2f-8593271cbc1e",
   "metadata": {},
   "outputs": [
    {
     "name": "stdout",
     "output_type": "stream",
     "text": [
      "\n",
      "Program to implement the stack using list\n",
      "1. Push\n",
      "2. Pop\n",
      "3. Peek\n",
      "4. Display\n",
      "5. Reverse\n",
      "6. Minimum Element\n",
      "7. Sorting in reverse order\n",
      "8. Exit\n"
     ]
    },
    {
     "name": "stdin",
     "output_type": "stream",
     "text": [
      "Enter your choice:  1\n",
      "Enter the data:  23\n"
     ]
    },
    {
     "name": "stdout",
     "output_type": "stream",
     "text": [
      "\n",
      "Program to implement the stack using list\n",
      "1. Push\n",
      "2. Pop\n",
      "3. Peek\n",
      "4. Display\n",
      "5. Reverse\n",
      "6. Minimum Element\n",
      "7. Sorting in reverse order\n",
      "8. Exit\n"
     ]
    },
    {
     "name": "stdin",
     "output_type": "stream",
     "text": [
      "Enter your choice:  1\n",
      "Enter the data:  21\n"
     ]
    },
    {
     "name": "stdout",
     "output_type": "stream",
     "text": [
      "\n",
      "Program to implement the stack using list\n",
      "1. Push\n",
      "2. Pop\n",
      "3. Peek\n",
      "4. Display\n",
      "5. Reverse\n",
      "6. Minimum Element\n",
      "7. Sorting in reverse order\n",
      "8. Exit\n"
     ]
    },
    {
     "name": "stdin",
     "output_type": "stream",
     "text": [
      "Enter your choice:  1\n",
      "Enter the data:  11\n"
     ]
    },
    {
     "name": "stdout",
     "output_type": "stream",
     "text": [
      "\n",
      "Program to implement the stack using list\n",
      "1. Push\n",
      "2. Pop\n",
      "3. Peek\n",
      "4. Display\n",
      "5. Reverse\n",
      "6. Minimum Element\n",
      "7. Sorting in reverse order\n",
      "8. Exit\n"
     ]
    },
    {
     "name": "stdin",
     "output_type": "stream",
     "text": [
      "Enter your choice:  1\n",
      "Enter the data:  67\n"
     ]
    },
    {
     "name": "stdout",
     "output_type": "stream",
     "text": [
      "\n",
      "Program to implement the stack using list\n",
      "1. Push\n",
      "2. Pop\n",
      "3. Peek\n",
      "4. Display\n",
      "5. Reverse\n",
      "6. Minimum Element\n",
      "7. Sorting in reverse order\n",
      "8. Exit\n"
     ]
    },
    {
     "name": "stdin",
     "output_type": "stream",
     "text": [
      "Enter your choice:  1\n",
      "Enter the data:  45\n"
     ]
    },
    {
     "name": "stdout",
     "output_type": "stream",
     "text": [
      "\n",
      "Program to implement the stack using list\n",
      "1. Push\n",
      "2. Pop\n",
      "3. Peek\n",
      "4. Display\n",
      "5. Reverse\n",
      "6. Minimum Element\n",
      "7. Sorting in reverse order\n",
      "8. Exit\n"
     ]
    },
    {
     "name": "stdin",
     "output_type": "stream",
     "text": [
      "Enter your choice:  1\n",
      "Enter the data:  34\n"
     ]
    },
    {
     "name": "stdout",
     "output_type": "stream",
     "text": [
      "\n",
      "Program to implement the stack using list\n",
      "1. Push\n",
      "2. Pop\n",
      "3. Peek\n",
      "4. Display\n",
      "5. Reverse\n",
      "6. Minimum Element\n",
      "7. Sorting in reverse order\n",
      "8. Exit\n"
     ]
    },
    {
     "name": "stdin",
     "output_type": "stream",
     "text": [
      "Enter your choice:  4\n"
     ]
    },
    {
     "name": "stdout",
     "output_type": "stream",
     "text": [
      "Stack elements (from top to bottom):\n",
      "34\n",
      "45\n",
      "67\n",
      "11\n",
      "21\n",
      "23\n",
      "\n",
      "Program to implement the stack using list\n",
      "1. Push\n",
      "2. Pop\n",
      "3. Peek\n",
      "4. Display\n",
      "5. Reverse\n",
      "6. Minimum Element\n",
      "7. Sorting in reverse order\n",
      "8. Exit\n"
     ]
    },
    {
     "name": "stdin",
     "output_type": "stream",
     "text": [
      "Enter your choice:  7\n"
     ]
    },
    {
     "name": "stdout",
     "output_type": "stream",
     "text": [
      "Sorted elements in descending order:\n",
      "67\n",
      "45\n",
      "34\n",
      "23\n",
      "21\n",
      "11\n",
      "\n",
      "Program to implement the stack using list\n",
      "1. Push\n",
      "2. Pop\n",
      "3. Peek\n",
      "4. Display\n",
      "5. Reverse\n",
      "6. Minimum Element\n",
      "7. Sorting in reverse order\n",
      "8. Exit\n"
     ]
    },
    {
     "name": "stdin",
     "output_type": "stream",
     "text": [
      "Enter your choice:  8\n"
     ]
    },
    {
     "name": "stdout",
     "output_type": "stream",
     "text": [
      "\n",
      "Quitting .......\n"
     ]
    }
   ],
   "source": [
    "class Stack:\n",
    "    def __init__(self):\n",
    "        self.items = []  \n",
    "\n",
    "    def isempty(self):\n",
    "        return self.items == []  \n",
    "\n",
    "    def push(self, item):\n",
    "        self.items.append(item)  \n",
    "\n",
    "    def pop(self):\n",
    "        if self.isempty():  \n",
    "            print(\"Stack Underflow\")  \n",
    "            return None  \n",
    "        return self.items.pop()  \n",
    "\n",
    "    def peek(self):\n",
    "        if self.isempty():  \n",
    "            print(\"Stack is empty\")  \n",
    "            return None  \n",
    "        return self.items[len(self.items) - 1]  \n",
    "\n",
    "    def size(self):\n",
    "        return len(self.items)  \n",
    "\n",
    "    def display(self):\n",
    "        if self.isempty():  \n",
    "            print(\"Stack is empty\")  \n",
    "            return  \n",
    "\n",
    "        print(\"Stack elements (from top to bottom):\")\n",
    "        top = len(self.items)\n",
    "        for i in range(top - 1, -1, -1):  \n",
    "            print(self.items[i])  \n",
    "    def reverse(self):\n",
    "        if self.isempty():  \n",
    "            print(\"Stack is empty\")  \n",
    "            return\n",
    "        print('Reversed stack (From Bottom to Top):')\n",
    "        for i in range(len(self.items)):\n",
    "            print(self.items[i])\n",
    "    def minimum(self):\n",
    "        if self.isempty():  \n",
    "            print(\"Stack is empty\")  \n",
    "            return\n",
    "        print('Minimum Element:')\n",
    "        print(min(self.items))\n",
    "    def sorting(self):\n",
    "        if self.isempty():  \n",
    "            print(\"Stack is empty\")  \n",
    "            return\n",
    "        print('Sorted elements in descending order:')\n",
    "        for i in range(len(self.items)):\n",
    "            for j in range(i+1,len(self.items)):\n",
    "                if self.items[i]>=self.items[j]:\n",
    "                    self.items[i],self.items[j]=self.items[j],self.items[i]\n",
    "        for i in range(len(self.items)):  \n",
    "            print(self.items[i])\n",
    "            \n",
    "\n",
    "\n",
    "s = Stack()  \n",
    "while True:\n",
    "    print(\"\\nProgram to implement the stack using list\")  \n",
    "    print(\"1. Push\")\n",
    "    print(\"2. Pop\")\n",
    "    print(\"3. Peek\")\n",
    "    print(\"4. Display\")\n",
    "    print(\"5. Reverse\")\n",
    "    print(\"6. Minimum Element\")\n",
    "    print(\"7. Sorting in descending order\")\n",
    "    print(\"8. Exit\")\n",
    "    \n",
    "\n",
    "    choice = int(input(\"Enter your choice: \"))  \n",
    "\n",
    "    if choice == 1:\n",
    "        num = int(input(\"Enter the data: \"))  \n",
    "        s.push(num)  \n",
    "\n",
    "    elif choice == 2:  \n",
    "        num = s.pop()  \n",
    "        if num is not None:  \n",
    "            print(\"Popped item =\", num)  \n",
    "\n",
    "    elif choice == 3:  \n",
    "        num = s.peek()  \n",
    "        if num is not None:  \n",
    "            print(\"Item at the top of the stack:\", num) \n",
    "\n",
    "    elif choice == 4: \n",
    "        s.display() \n",
    "        \n",
    "    elif choice == 5:\n",
    "        s.reverse()\n",
    "        \n",
    "    elif choice==6:\n",
    "        s.minimum()\n",
    "\n",
    "    elif choice == 8:  \n",
    "        print(\"\\nQuitting .......\") \n",
    "        break  \n",
    "    elif choice == 7:\n",
    "        s.sorting()\n",
    "\n",
    "    else:  \n",
    "        print(\"Invalid choice! Enter a correct choice (1-5):\")  \n",
    "        continue  \n"
   ]
  },
  {
   "cell_type": "code",
   "execution_count": null,
   "id": "55821e19-a3c8-40cd-92f2-4b874e587303",
   "metadata": {},
   "outputs": [],
   "source": []
  }
 ],
 "metadata": {
  "kernelspec": {
   "display_name": "Python 3 (ipykernel)",
   "language": "python",
   "name": "python3"
  },
  "language_info": {
   "codemirror_mode": {
    "name": "ipython",
    "version": 3
   },
   "file_extension": ".py",
   "mimetype": "text/x-python",
   "name": "python",
   "nbconvert_exporter": "python",
   "pygments_lexer": "ipython3",
   "version": "3.12.4"
  }
 },
 "nbformat": 4,
 "nbformat_minor": 5
}
