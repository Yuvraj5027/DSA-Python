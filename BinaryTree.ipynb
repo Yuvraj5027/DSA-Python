{
 "cells": [
  {
   "cell_type": "code",
   "execution_count": null,
   "id": "cf691323",
   "metadata": {},
   "outputs": [],
   "source": [
    "class Node:\n",
    "    def __init__(self, key):\n",
    "        self.left = None\n",
    "        self.right = None\n",
    "        self.value=key\n",
    "class BinaryTree:\n",
    "    def __init__(self,root_value):\n",
    "        self.root = Node(root_value)\n",
    "    def insert(self, value):\n",
    "        if not self.root:\n",
    "            self.root = Node(value)\n",
    "        else:\n",
    "            self._insert_recursively(value, self.root)\n",
    "    def _insert_recursively(self, value, node):\n",
    "        if value < node.value:\n",
    "            if node.left is None:\n",
    "                self._insert_recursively(node.left,value)\n",
    "            else:\n",
    "                node.left=Node(value)\n",
    "        else:\n",
    "            if node.right :\n",
    "                self._insert_recursively(node.right,value)\n",
    "            else:\n",
    "                node.right=Node(value)\n",
    "                "
   ]
  }
 ],
 "metadata": {
  "kernelspec": {
   "display_name": "base",
   "language": "python",
   "name": "python3"
  },
  "language_info": {
   "name": "python",
   "version": "3.12.4"
  }
 },
 "nbformat": 4,
 "nbformat_minor": 5
}
