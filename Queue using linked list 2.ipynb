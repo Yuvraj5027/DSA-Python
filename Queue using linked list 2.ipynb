{
 "cells": [
  {
   "cell_type": "code",
   "execution_count": 2,
   "id": "772ec743-5edd-46a3-be24-48244f544846",
   "metadata": {},
   "outputs": [
    {
     "name": "stdout",
     "output_type": "stream",
     "text": [
      "Program to inplement Queue\n",
      "1. Enqueue\n",
      "2.Dequeue\n",
      "3. Peek\n",
      "4.Display\n",
      "5. Exit\n"
     ]
    },
    {
     "name": "stdin",
     "output_type": "stream",
     "text": [
      "Enter your choice:  1\n",
      "Enter the data 12\n"
     ]
    },
    {
     "name": "stdout",
     "output_type": "stream",
     "text": [
      "Program to inplement Queue\n",
      "1. Enqueue\n",
      "2.Dequeue\n",
      "3. Peek\n",
      "4.Display\n",
      "5. Exit\n"
     ]
    },
    {
     "name": "stdin",
     "output_type": "stream",
     "text": [
      "Enter your choice:  23\n"
     ]
    },
    {
     "name": "stdout",
     "output_type": "stream",
     "text": [
      "Invalid chaice, enter a correct choice\n",
      "Program to inplement Queue\n",
      "1. Enqueue\n",
      "2.Dequeue\n",
      "3. Peek\n",
      "4.Display\n",
      "5. Exit\n"
     ]
    },
    {
     "name": "stdin",
     "output_type": "stream",
     "text": [
      "Enter your choice:  1\n",
      "Enter the data 23\n"
     ]
    },
    {
     "name": "stdout",
     "output_type": "stream",
     "text": [
      "Program to inplement Queue\n",
      "1. Enqueue\n",
      "2.Dequeue\n",
      "3. Peek\n",
      "4.Display\n",
      "5. Exit\n"
     ]
    },
    {
     "name": "stdin",
     "output_type": "stream",
     "text": [
      "Enter your choice:  1\n",
      "Enter the data 34\n"
     ]
    },
    {
     "name": "stdout",
     "output_type": "stream",
     "text": [
      "Program to inplement Queue\n",
      "1. Enqueue\n",
      "2.Dequeue\n",
      "3. Peek\n",
      "4.Display\n",
      "5. Exit\n"
     ]
    },
    {
     "name": "stdin",
     "output_type": "stream",
     "text": [
      "Enter your choice:  1\n",
      "Enter the data 45\n"
     ]
    },
    {
     "name": "stdout",
     "output_type": "stream",
     "text": [
      "Program to inplement Queue\n",
      "1. Enqueue\n",
      "2.Dequeue\n",
      "3. Peek\n",
      "4.Display\n",
      "5. Exit\n"
     ]
    },
    {
     "name": "stdin",
     "output_type": "stream",
     "text": [
      "Enter your choice:  3\n"
     ]
    },
    {
     "name": "stdout",
     "output_type": "stream",
     "text": [
      "Item at the front of the queue: 12\n",
      "Program to inplement Queue\n",
      "1. Enqueue\n",
      "2.Dequeue\n",
      "3. Peek\n",
      "4.Display\n",
      "5. Exit\n"
     ]
    },
    {
     "name": "stdin",
     "output_type": "stream",
     "text": [
      "Enter your choice:  4\n"
     ]
    },
    {
     "name": "stdout",
     "output_type": "stream",
     "text": [
      "\n",
      "12 23 34 45 None\n",
      "Program to inplement Queue\n",
      "1. Enqueue\n",
      "2.Dequeue\n",
      "3. Peek\n",
      "4.Display\n",
      "5. Exit\n"
     ]
    },
    {
     "name": "stdin",
     "output_type": "stream",
     "text": [
      "Enter your choice:  5\n"
     ]
    },
    {
     "name": "stdout",
     "output_type": "stream",
     "text": [
      "Quitting.......\n"
     ]
    }
   ],
   "source": [
    "class Node:\n",
    "    def __init__(self,NewData,link):\n",
    "        self.data=NewData\n",
    "        self.next=link\n",
    "class Queue:\n",
    "    def __init__(self):\n",
    "        self.front=None\n",
    "        self.rear=None\n",
    "    def  isempty(self):\n",
    "        return self.front is None\n",
    "    def enqueue(self,NewData):\n",
    "        newNode=Node(NewData,None)\n",
    "        if self.front is None:\n",
    "            self.front=self.rear=newNode\n",
    "        else:\n",
    "            self.rear.next=newNode\n",
    "            self.rear=newNode\n",
    "    def dequeue(self):\n",
    "        node=self.front\n",
    "        if self.front==self.rear:\n",
    "            self.front=self.rear=None\n",
    "        else:\n",
    "            self.front=node.next\n",
    "        return node.data\n",
    "    def peek(self):\n",
    "        return self.front.data\n",
    "    def display(self):\n",
    "        curNode=self.front\n",
    "        print()\n",
    "        while curNode is not None:\n",
    "            print(curNode.data,end=' ')\n",
    "            curNode=curNode.next\n",
    "        print(\"None\")\n",
    "q=Queue()\n",
    "while(True):\n",
    "    print(\"Program to inplement Queue\")\n",
    "    print('1. Enqueue')\n",
    "    print('2.Dequeue')\n",
    "    print(\"3. Peek\")\n",
    "    print(\"4.Display\")\n",
    "    print(\"5. Exit\")\n",
    "    choice=int(input(\"Enter your choice: \"))\n",
    "    if choice==1:\n",
    "        num=int(input(\"Enter the data\"))\n",
    "        q.enqueue(num)\n",
    "    elif choice ==2:\n",
    "        if q.isempty():\n",
    "            print(\"Queue underflow\")\n",
    "        else:\n",
    "            num=q.dequeue()\n",
    "            print(\"Item dequeue:\",num)\n",
    "    elif choice==3:\n",
    "        if q.isempty():\n",
    "            print(\"Queue Underflow\")\n",
    "        else:\n",
    "            num=q.peek()\n",
    "            print(\"Item at the front of the queue:\",num)\n",
    "    elif choice==4:\n",
    "        if q.isempty():\n",
    "            print(\"Queue is Empty\")\n",
    "        else:\n",
    "            q.display()\n",
    "    elif choice==5:\n",
    "        print(\"Quitting.......\")\n",
    "        break\n",
    "    else:\n",
    "        print(\"Invalid chaice, enter a correct choice\")\n",
    "        continue\n",
    "              "
   ]
  },
  {
   "cell_type": "code",
   "execution_count": null,
   "id": "f6e25391-dfa5-4259-b394-a9b98377917f",
   "metadata": {},
   "outputs": [],
   "source": []
  }
 ],
 "metadata": {
  "kernelspec": {
   "display_name": "Python 3 (ipykernel)",
   "language": "python",
   "name": "python3"
  },
  "language_info": {
   "codemirror_mode": {
    "name": "ipython",
    "version": 3
   },
   "file_extension": ".py",
   "mimetype": "text/x-python",
   "name": "python",
   "nbconvert_exporter": "python",
   "pygments_lexer": "ipython3",
   "version": "3.12.4"
  }
 },
 "nbformat": 4,
 "nbformat_minor": 5
}
